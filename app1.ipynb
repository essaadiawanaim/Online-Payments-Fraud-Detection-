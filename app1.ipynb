{
 "cells": [
  {
   "cell_type": "code",
   "execution_count": 1,
   "id": "a5bc85d8",
   "metadata": {},
   "outputs": [
    {
     "name": "stdout",
     "output_type": "stream",
     "text": [
      "Running on local URL:  http://127.0.0.1:7860\n",
      "IMPORTANT: You are using gradio version 4.12.0, however version 4.29.0 is available, please upgrade.\n",
      "--------\n",
      "\n",
      "To create a public link, set `share=True` in `launch()`.\n"
     ]
    },
    {
     "data": {
      "text/html": [
       "<div><iframe src=\"http://127.0.0.1:7860/\" width=\"100%\" height=\"500\" allow=\"autoplay; camera; microphone; clipboard-read; clipboard-write;\" frameborder=\"0\" allowfullscreen></iframe></div>"
      ],
      "text/plain": [
       "<IPython.core.display.HTML object>"
      ]
     },
     "metadata": {},
     "output_type": "display_data"
    },
    {
     "data": {
      "text/plain": []
     },
     "execution_count": 1,
     "metadata": {},
     "output_type": "execute_result"
    },
    {
     "name": "stderr",
     "output_type": "stream",
     "text": [
      "C:\\ProgramData\\Anaconda3\\lib\\site-packages\\sklearn\\base.py:450: UserWarning: X does not have valid feature names, but RandomForestClassifier was fitted with feature names\n",
      "  warnings.warn(\n"
     ]
    }
   ],
   "source": [
    "import joblib\n",
    "from pydantic import BaseModel\n",
    "import gradio as gr\n",
    "\n",
    "# 1. Load the trained model\n",
    "model = joblib.load('frauddetection.pkl')\n",
    "\n",
    "# 2. Define the input data schema using Pydantic BaseModel\n",
    "class InputData(BaseModel):\n",
    "    step: float\n",
    "    Type: int\n",
    "    amount: float\n",
    "    oldbalanceOrg: float\n",
    "    newbalanceOrig: float\n",
    "    oldbalanceDest: float\n",
    "    newbalanceDest: float\n",
    "\n",
    "# 3. Define the prediction function \n",
    "def predict(step, Type, amount, oldbalanceOrg, newbalanceOrig, oldbalanceDest, newbalanceDest):\n",
    "    # Create an instance of the InputData class\n",
    "    data = InputData(step=step, Type=Type, amount=amount, \n",
    "                     oldbalanceOrg=oldbalanceOrg, newbalanceOrig=newbalanceOrig, \n",
    "                     oldbalanceDest=oldbalanceDest, newbalanceDest=newbalanceDest)\n",
    "    \n",
    "    # Perform the prediction\n",
    "    prediction = model.predict([[data.step, data.Type, data.amount, data.oldbalanceOrg, \n",
    "                                 data.newbalanceOrig, data.oldbalanceDest, data.newbalanceDest]])[0]\n",
    "    \n",
    "    # Convert the prediction to a string\n",
    "    result = \"Fraud\" if prediction == 1 else \"Not a Fraud\"\n",
    "    return result\n",
    "\n",
    "# 4. Create a Gradio interface \n",
    "iface = gr.Interface(\n",
    "    fn=predict,\n",
    "    inputs=[gr.Number(label=\"Step\"),\n",
    "            gr.Number(label=\"Type\"),\n",
    "            gr.Number(label=\"Amount\"),\n",
    "            gr.Number(label=\"Old Balance Orig\"),\n",
    "            gr.Number(label=\"New Balance Orig\"),\n",
    "            gr.Number(label=\"Old Balance Dest\"),\n",
    "            gr.Number(label=\"New Balance Dest\")],\n",
    "    outputs=gr.Textbox(label=\"Result\")\n",
    ")\n",
    "\n",
    "# 5. Launch the Gradio interface\n",
    "iface.launch()\n"
   ]
  },
  {
   "cell_type": "code",
   "execution_count": null,
   "id": "a48ea007",
   "metadata": {},
   "outputs": [],
   "source": []
  }
 ],
 "metadata": {
  "kernelspec": {
   "display_name": "Python 3 (ipykernel)",
   "language": "python",
   "name": "python3"
  },
  "language_info": {
   "codemirror_mode": {
    "name": "ipython",
    "version": 3
   },
   "file_extension": ".py",
   "mimetype": "text/x-python",
   "name": "python",
   "nbconvert_exporter": "python",
   "pygments_lexer": "ipython3",
   "version": "3.9.13"
  }
 },
 "nbformat": 4,
 "nbformat_minor": 5
}
